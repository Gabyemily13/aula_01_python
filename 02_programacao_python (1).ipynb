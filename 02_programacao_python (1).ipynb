{
  "nbformat": 4,
  "nbformat_minor": 0,
  "metadata": {
    "colab": {
      "provenance": [],
      "toc_visible": true
    },
    "kernelspec": {
      "name": "python3",
      "display_name": "Python 3"
    },
    "language_info": {
      "name": "python"
    }
  },
  "cells": [
    {
      "cell_type": "markdown",
      "source": [
        "# Olá python:\n",
        "Utilizando o comando \"print\" para imprimir um valor de saída no prompt do Notebook.\n",
        "\n"
      ],
      "metadata": {
        "id": "nttSbOwHJZBf"
      }
    },
    {
      "cell_type": "code",
      "source": [
        "#Mensagem inicial utilizando o comando print\n",
        "print('SENAI - Suiço')\n",
        "print('Aula 01 - programção python')"
      ],
      "metadata": {
        "colab": {
          "base_uri": "https://localhost:8080/"
        },
        "id": "XlO8w7WEH8xv",
        "outputId": "37edb040-358c-425d-c98d-7214b6e95116"
      },
      "execution_count": null,
      "outputs": [
        {
          "output_type": "stream",
          "name": "stdout",
          "text": [
            "SENAI - Suiço\n",
            "Aula 01 - programção python\n"
          ]
        }
      ]
    },
    {
      "cell_type": "markdown",
      "source": [
        "# Tipos de Dados\n",
        "\n",
        "Python não é fortemente tipado, ou seja, ele define o tipo baseado no valor atribuído.\n",
        "\n",
        "Utilizando comando **\"type()\"** é possivel extrair o tipo do dado."
      ],
      "metadata": {
        "id": "1XVShX_CMUTF"
      }
    },
    {
      "cell_type": "code",
      "source": [
        "#Tipo numérico\n",
        "idade = 13 #tipo int(integer/inteiro)\n",
        "print(type(idade))\n",
        "idade = ['1','2','3']\n",
        "print(idade)"
      ],
      "metadata": {
        "colab": {
          "base_uri": "https://localhost:8080/"
        },
        "id": "uFmnG6rdRlET",
        "outputId": "2ce0777e-97a5-43ab-b2e7-0f8d69d8c956"
      },
      "execution_count": null,
      "outputs": [
        {
          "output_type": "stream",
          "name": "stdout",
          "text": [
            "<class 'int'>\n",
            "['1', '2', '3']\n"
          ]
        }
      ]
    },
    {
      "cell_type": "code",
      "source": [
        "#Tipo numérico\n",
        "altura = 1.85 #tipo float(flutuante)\n",
        "print(type(altura))"
      ],
      "metadata": {
        "colab": {
          "base_uri": "https://localhost:8080/"
        },
        "id": "njQRridsTM4L",
        "outputId": "052e04f9-61a0-4d05-f3e1-7bcb8a2f0818"
      },
      "execution_count": null,
      "outputs": [
        {
          "output_type": "stream",
          "name": "stdout",
          "text": [
            "<class 'float'>\n"
          ]
        }
      ]
    },
    {
      "cell_type": "code",
      "source": [
        "#Tipo booleano\n",
        "fumante = False\n",
        "print(type(fumante))"
      ],
      "metadata": {
        "colab": {
          "base_uri": "https://localhost:8080/"
        },
        "id": "5mFX6PkzTjCb",
        "outputId": "f92fa403-6f97-4e38-afde-c7ca514c9b04"
      },
      "execution_count": null,
      "outputs": [
        {
          "output_type": "stream",
          "name": "stdout",
          "text": [
            "<class 'bool'>\n"
          ]
        }
      ]
    },
    {
      "cell_type": "code",
      "source": [
        "#Tipo string\n",
        "nome_completo = 'Edson Arantes do Nascimento o Pelé'\n",
        "print(type(nome_completo))"
      ],
      "metadata": {
        "colab": {
          "base_uri": "https://localhost:8080/"
        },
        "id": "4ey67VowT7q7",
        "outputId": "c89c1477-95ca-4843-c733-0e258070dc55"
      },
      "execution_count": null,
      "outputs": [
        {
          "output_type": "stream",
          "name": "stdout",
          "text": [
            "<class 'str'>\n"
          ]
        }
      ]
    },
    {
      "cell_type": "markdown",
      "source": [
        "# Operações aritméticas\n",
        "\n",
        "Operações básicas:\n",
        "* '+': soma\n",
        "* '-': subtração\n",
        "* '*': multiplicação\n",
        "* '/': divisão\n",
        "* '**': exponenciação\n",
        "* '%': módulo -> resto divisão"
      ],
      "metadata": {
        "id": "BHYhEELfMXqV"
      }
    },
    {
      "cell_type": "code",
      "source": [
        "#Soma\n",
        "saldo = 10 + 3\n",
        "print(saldo)\n",
        "\n",
        "#subtração\n",
        "conta_cc = 15 -7\n",
        "print(conta_cc)\n",
        "\n",
        "#multiplicação\n",
        "soma_notas = 10 * 5\n",
        "print(soma_notas)\n",
        "\n",
        "#divisao\n",
        "media = soma_notas/5\n",
        "print(media)\n",
        "\n",
        "#módulo\n",
        "resto = 10%3\n",
        "print(resto)\n",
        "\n",
        "#exponenciação\n",
        "log = 10**2\n",
        "print(log)\n"
      ],
      "metadata": {
        "colab": {
          "base_uri": "https://localhost:8080/"
        },
        "id": "RMsIxGWoVqe6",
        "outputId": "11f510f7-3a4f-46c8-ff7f-efd4886cb967"
      },
      "execution_count": null,
      "outputs": [
        {
          "output_type": "stream",
          "name": "stdout",
          "text": [
            "13\n",
            "8\n",
            "50\n",
            "10.0\n",
            "1\n",
            "100\n"
          ]
        }
      ]
    },
    {
      "cell_type": "markdown",
      "source": [
        "# Listas\n"
      ],
      "metadata": {
        "id": "SbIfGfXKZM4E"
      }
    },
    {
      "cell_type": "code",
      "source": [],
      "metadata": {
        "id": "8hRKTMiBZZQ8"
      },
      "execution_count": null,
      "outputs": []
    },
    {
      "cell_type": "markdown",
      "source": [
        "# Tuplas"
      ],
      "metadata": {
        "id": "9_QwqngxZUK0"
      }
    },
    {
      "cell_type": "code",
      "source": [],
      "metadata": {
        "id": "K_xQ2m3wZfer"
      },
      "execution_count": null,
      "outputs": []
    },
    {
      "cell_type": "markdown",
      "source": [
        "# Dicionarios"
      ],
      "metadata": {
        "id": "Tty88c1GZgCM"
      }
    },
    {
      "cell_type": "code",
      "source": [],
      "metadata": {
        "id": "t9XbQenwZkLr"
      },
      "execution_count": null,
      "outputs": []
    },
    {
      "cell_type": "markdown",
      "source": [
        "# Estrutura de Decisão"
      ],
      "metadata": {
        "id": "qDMpj7OdMdF1"
      }
    },
    {
      "cell_type": "code",
      "source": [],
      "metadata": {
        "id": "-ZHASeHfYY0m"
      },
      "execution_count": null,
      "outputs": []
    },
    {
      "cell_type": "markdown",
      "source": [
        "# Estruturas de Repetição"
      ],
      "metadata": {
        "id": "oLf_tS3oMi50"
      }
    },
    {
      "cell_type": "code",
      "execution_count": null,
      "metadata": {
        "colab": {
          "base_uri": "https://localhost:8080/"
        },
        "id": "cQ25ij_hFsG0",
        "outputId": "7d8a748b-67d2-4df9-d228-6beda4966b1e"
      },
      "outputs": [
        {
          "output_type": "stream",
          "name": "stdout",
          "text": [
            "Aula 01 - programção python\n"
          ]
        }
      ],
      "source": []
    }
  ]
}